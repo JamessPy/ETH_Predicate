{
 "cells": [
  {
   "cell_type": "code",
   "execution_count": 51,
   "id": "7fb5de75",
   "metadata": {},
   "outputs": [],
   "source": [
    "import pandas as pd\n",
    "import numpy as np\n",
    "from statsmodels.tsa.api import VAR\n",
    "from sklearn.model_selection import train_test_split\n",
    "from sklearn.preprocessing import StandardScaler\n",
    "\n",
    "\n",
    "usd = pd.read_csv(\"guncel-eth-usd.csv\",index_col=0,parse_dates=True)\n",
    "eth = pd.read_csv(\"US Dollar Index Futures Historical Data.csv\",index_col=0,parse_dates=True)"
   ]
  },
  {
   "cell_type": "markdown",
   "id": "c49f63ac",
   "metadata": {},
   "source": [
    "# Setting Our Data Sets"
   ]
  },
  {
   "cell_type": "code",
   "execution_count": 52,
   "id": "24ea4e20",
   "metadata": {},
   "outputs": [
    {
     "data": {
      "text/html": [
       "<div>\n",
       "<style scoped>\n",
       "    .dataframe tbody tr th:only-of-type {\n",
       "        vertical-align: middle;\n",
       "    }\n",
       "\n",
       "    .dataframe tbody tr th {\n",
       "        vertical-align: top;\n",
       "    }\n",
       "\n",
       "    .dataframe thead th {\n",
       "        text-align: right;\n",
       "    }\n",
       "</style>\n",
       "<table border=\"1\" class=\"dataframe\">\n",
       "  <thead>\n",
       "    <tr style=\"text-align: right;\">\n",
       "      <th></th>\n",
       "      <th>Open</th>\n",
       "      <th>High</th>\n",
       "      <th>Low</th>\n",
       "      <th>Close</th>\n",
       "      <th>Adj Close</th>\n",
       "      <th>Volume</th>\n",
       "    </tr>\n",
       "    <tr>\n",
       "      <th>Date</th>\n",
       "      <th></th>\n",
       "      <th></th>\n",
       "      <th></th>\n",
       "      <th></th>\n",
       "      <th></th>\n",
       "      <th></th>\n",
       "    </tr>\n",
       "  </thead>\n",
       "  <tbody>\n",
       "    <tr>\n",
       "      <th>2017-11-09</th>\n",
       "      <td>308.644989</td>\n",
       "      <td>329.451996</td>\n",
       "      <td>307.056000</td>\n",
       "      <td>320.884003</td>\n",
       "      <td>320.884003</td>\n",
       "      <td>893249984</td>\n",
       "    </tr>\n",
       "    <tr>\n",
       "      <th>2017-11-10</th>\n",
       "      <td>320.670990</td>\n",
       "      <td>324.717987</td>\n",
       "      <td>294.541992</td>\n",
       "      <td>299.252991</td>\n",
       "      <td>299.252991</td>\n",
       "      <td>885985984</td>\n",
       "    </tr>\n",
       "    <tr>\n",
       "      <th>2017-11-11</th>\n",
       "      <td>298.585999</td>\n",
       "      <td>319.453003</td>\n",
       "      <td>298.191986</td>\n",
       "      <td>314.681000</td>\n",
       "      <td>314.681000</td>\n",
       "      <td>842300992</td>\n",
       "    </tr>\n",
       "    <tr>\n",
       "      <th>2017-11-12</th>\n",
       "      <td>314.690002</td>\n",
       "      <td>319.153015</td>\n",
       "      <td>298.513000</td>\n",
       "      <td>307.907990</td>\n",
       "      <td>307.907990</td>\n",
       "      <td>1613479936</td>\n",
       "    </tr>\n",
       "    <tr>\n",
       "      <th>2017-11-13</th>\n",
       "      <td>307.024994</td>\n",
       "      <td>328.415009</td>\n",
       "      <td>307.024994</td>\n",
       "      <td>316.716003</td>\n",
       "      <td>316.716003</td>\n",
       "      <td>1041889984</td>\n",
       "    </tr>\n",
       "    <tr>\n",
       "      <th>...</th>\n",
       "      <td>...</td>\n",
       "      <td>...</td>\n",
       "      <td>...</td>\n",
       "      <td>...</td>\n",
       "      <td>...</td>\n",
       "      <td>...</td>\n",
       "    </tr>\n",
       "    <tr>\n",
       "      <th>2021-12-31</th>\n",
       "      <td>3713.430176</td>\n",
       "      <td>3807.288818</td>\n",
       "      <td>3636.869873</td>\n",
       "      <td>3682.632813</td>\n",
       "      <td>3682.632813</td>\n",
       "      <td>14157285268</td>\n",
       "    </tr>\n",
       "    <tr>\n",
       "      <th>2022-01-01</th>\n",
       "      <td>3683.047119</td>\n",
       "      <td>3769.917969</td>\n",
       "      <td>3682.286621</td>\n",
       "      <td>3769.697021</td>\n",
       "      <td>3769.697021</td>\n",
       "      <td>9776191466</td>\n",
       "    </tr>\n",
       "    <tr>\n",
       "      <th>2022-01-02</th>\n",
       "      <td>3769.298340</td>\n",
       "      <td>3836.161865</td>\n",
       "      <td>3727.357422</td>\n",
       "      <td>3829.564941</td>\n",
       "      <td>3829.564941</td>\n",
       "      <td>9881471548</td>\n",
       "    </tr>\n",
       "    <tr>\n",
       "      <th>2022-01-03</th>\n",
       "      <td>3829.535645</td>\n",
       "      <td>3836.198730</td>\n",
       "      <td>3698.047607</td>\n",
       "      <td>3761.380371</td>\n",
       "      <td>3761.380371</td>\n",
       "      <td>12080777893</td>\n",
       "    </tr>\n",
       "    <tr>\n",
       "      <th>2022-01-04</th>\n",
       "      <td>3768.174316</td>\n",
       "      <td>3876.692383</td>\n",
       "      <td>3725.115723</td>\n",
       "      <td>3856.072510</td>\n",
       "      <td>3856.072510</td>\n",
       "      <td>13599510528</td>\n",
       "    </tr>\n",
       "  </tbody>\n",
       "</table>\n",
       "<p>1518 rows × 6 columns</p>\n",
       "</div>"
      ],
      "text/plain": [
       "                   Open         High          Low        Close    Adj Close  \\\n",
       "Date                                                                          \n",
       "2017-11-09   308.644989   329.451996   307.056000   320.884003   320.884003   \n",
       "2017-11-10   320.670990   324.717987   294.541992   299.252991   299.252991   \n",
       "2017-11-11   298.585999   319.453003   298.191986   314.681000   314.681000   \n",
       "2017-11-12   314.690002   319.153015   298.513000   307.907990   307.907990   \n",
       "2017-11-13   307.024994   328.415009   307.024994   316.716003   316.716003   \n",
       "...                 ...          ...          ...          ...          ...   \n",
       "2021-12-31  3713.430176  3807.288818  3636.869873  3682.632813  3682.632813   \n",
       "2022-01-01  3683.047119  3769.917969  3682.286621  3769.697021  3769.697021   \n",
       "2022-01-02  3769.298340  3836.161865  3727.357422  3829.564941  3829.564941   \n",
       "2022-01-03  3829.535645  3836.198730  3698.047607  3761.380371  3761.380371   \n",
       "2022-01-04  3768.174316  3876.692383  3725.115723  3856.072510  3856.072510   \n",
       "\n",
       "                 Volume  \n",
       "Date                     \n",
       "2017-11-09    893249984  \n",
       "2017-11-10    885985984  \n",
       "2017-11-11    842300992  \n",
       "2017-11-12   1613479936  \n",
       "2017-11-13   1041889984  \n",
       "...                 ...  \n",
       "2021-12-31  14157285268  \n",
       "2022-01-01   9776191466  \n",
       "2022-01-02   9881471548  \n",
       "2022-01-03  12080777893  \n",
       "2022-01-04  13599510528  \n",
       "\n",
       "[1518 rows x 6 columns]"
      ]
     },
     "execution_count": 52,
     "metadata": {},
     "output_type": "execute_result"
    }
   ],
   "source": [
    "usd"
   ]
  },
  {
   "cell_type": "code",
   "execution_count": 53,
   "id": "09b79283",
   "metadata": {},
   "outputs": [
    {
     "data": {
      "text/html": [
       "<div>\n",
       "<style scoped>\n",
       "    .dataframe tbody tr th:only-of-type {\n",
       "        vertical-align: middle;\n",
       "    }\n",
       "\n",
       "    .dataframe tbody tr th {\n",
       "        vertical-align: top;\n",
       "    }\n",
       "\n",
       "    .dataframe thead th {\n",
       "        text-align: right;\n",
       "    }\n",
       "</style>\n",
       "<table border=\"1\" class=\"dataframe\">\n",
       "  <thead>\n",
       "    <tr style=\"text-align: right;\">\n",
       "      <th></th>\n",
       "      <th>Close</th>\n",
       "      <th>Volume</th>\n",
       "    </tr>\n",
       "    <tr>\n",
       "      <th>Date</th>\n",
       "      <th></th>\n",
       "      <th></th>\n",
       "    </tr>\n",
       "  </thead>\n",
       "  <tbody>\n",
       "    <tr>\n",
       "      <th>2017-11-09</th>\n",
       "      <td>320.884003</td>\n",
       "      <td>893249984</td>\n",
       "    </tr>\n",
       "    <tr>\n",
       "      <th>2017-11-10</th>\n",
       "      <td>299.252991</td>\n",
       "      <td>885985984</td>\n",
       "    </tr>\n",
       "    <tr>\n",
       "      <th>2017-11-11</th>\n",
       "      <td>314.681000</td>\n",
       "      <td>842300992</td>\n",
       "    </tr>\n",
       "    <tr>\n",
       "      <th>2017-11-12</th>\n",
       "      <td>307.907990</td>\n",
       "      <td>1613479936</td>\n",
       "    </tr>\n",
       "    <tr>\n",
       "      <th>2017-11-13</th>\n",
       "      <td>316.716003</td>\n",
       "      <td>1041889984</td>\n",
       "    </tr>\n",
       "    <tr>\n",
       "      <th>...</th>\n",
       "      <td>...</td>\n",
       "      <td>...</td>\n",
       "    </tr>\n",
       "    <tr>\n",
       "      <th>2021-12-31</th>\n",
       "      <td>3682.632813</td>\n",
       "      <td>14157285268</td>\n",
       "    </tr>\n",
       "    <tr>\n",
       "      <th>2022-01-01</th>\n",
       "      <td>3769.697021</td>\n",
       "      <td>9776191466</td>\n",
       "    </tr>\n",
       "    <tr>\n",
       "      <th>2022-01-02</th>\n",
       "      <td>3829.564941</td>\n",
       "      <td>9881471548</td>\n",
       "    </tr>\n",
       "    <tr>\n",
       "      <th>2022-01-03</th>\n",
       "      <td>3761.380371</td>\n",
       "      <td>12080777893</td>\n",
       "    </tr>\n",
       "    <tr>\n",
       "      <th>2022-01-04</th>\n",
       "      <td>3856.072510</td>\n",
       "      <td>13599510528</td>\n",
       "    </tr>\n",
       "  </tbody>\n",
       "</table>\n",
       "<p>1518 rows × 2 columns</p>\n",
       "</div>"
      ],
      "text/plain": [
       "                  Close       Volume\n",
       "Date                                \n",
       "2017-11-09   320.884003    893249984\n",
       "2017-11-10   299.252991    885985984\n",
       "2017-11-11   314.681000    842300992\n",
       "2017-11-12   307.907990   1613479936\n",
       "2017-11-13   316.716003   1041889984\n",
       "...                 ...          ...\n",
       "2021-12-31  3682.632813  14157285268\n",
       "2022-01-01  3769.697021   9776191466\n",
       "2022-01-02  3829.564941   9881471548\n",
       "2022-01-03  3761.380371  12080777893\n",
       "2022-01-04  3856.072510  13599510528\n",
       "\n",
       "[1518 rows x 2 columns]"
      ]
     },
     "execution_count": 53,
     "metadata": {},
     "output_type": "execute_result"
    }
   ],
   "source": [
    "usd.drop(usd.columns[[0,1,2,4]],axis=1,inplace=True)\n",
    "usd"
   ]
  },
  {
   "cell_type": "code",
   "execution_count": 54,
   "id": "9685e41b",
   "metadata": {},
   "outputs": [
    {
     "data": {
      "text/html": [
       "<div>\n",
       "<style scoped>\n",
       "    .dataframe tbody tr th:only-of-type {\n",
       "        vertical-align: middle;\n",
       "    }\n",
       "\n",
       "    .dataframe tbody tr th {\n",
       "        vertical-align: top;\n",
       "    }\n",
       "\n",
       "    .dataframe thead th {\n",
       "        text-align: right;\n",
       "    }\n",
       "</style>\n",
       "<table border=\"1\" class=\"dataframe\">\n",
       "  <thead>\n",
       "    <tr style=\"text-align: right;\">\n",
       "      <th></th>\n",
       "      <th>Price</th>\n",
       "      <th>Open</th>\n",
       "      <th>High</th>\n",
       "      <th>Low</th>\n",
       "      <th>Vol.</th>\n",
       "      <th>Change %</th>\n",
       "    </tr>\n",
       "    <tr>\n",
       "      <th>Date</th>\n",
       "      <th></th>\n",
       "      <th></th>\n",
       "      <th></th>\n",
       "      <th></th>\n",
       "      <th></th>\n",
       "      <th></th>\n",
       "    </tr>\n",
       "  </thead>\n",
       "  <tbody>\n",
       "    <tr>\n",
       "      <th>2022-01-04</th>\n",
       "      <td>96.233</td>\n",
       "      <td>96.180</td>\n",
       "      <td>96.470</td>\n",
       "      <td>96.035</td>\n",
       "      <td>-</td>\n",
       "      <td>0.02%</td>\n",
       "    </tr>\n",
       "    <tr>\n",
       "      <th>2022-01-03</th>\n",
       "      <td>96.211</td>\n",
       "      <td>95.600</td>\n",
       "      <td>96.330</td>\n",
       "      <td>95.600</td>\n",
       "      <td>16.79K</td>\n",
       "      <td>0.65%</td>\n",
       "    </tr>\n",
       "    <tr>\n",
       "      <th>2021-12-31</th>\n",
       "      <td>95.593</td>\n",
       "      <td>95.965</td>\n",
       "      <td>96.105</td>\n",
       "      <td>95.575</td>\n",
       "      <td>15.00K</td>\n",
       "      <td>-0.39%</td>\n",
       "    </tr>\n",
       "    <tr>\n",
       "      <th>2021-12-30</th>\n",
       "      <td>95.964</td>\n",
       "      <td>95.875</td>\n",
       "      <td>96.225</td>\n",
       "      <td>95.865</td>\n",
       "      <td>12.40K</td>\n",
       "      <td>0.04%</td>\n",
       "    </tr>\n",
       "    <tr>\n",
       "      <th>2021-12-29</th>\n",
       "      <td>95.926</td>\n",
       "      <td>96.135</td>\n",
       "      <td>96.395</td>\n",
       "      <td>95.735</td>\n",
       "      <td>16.54K</td>\n",
       "      <td>-0.29%</td>\n",
       "    </tr>\n",
       "    <tr>\n",
       "      <th>...</th>\n",
       "      <td>...</td>\n",
       "      <td>...</td>\n",
       "      <td>...</td>\n",
       "      <td>...</td>\n",
       "      <td>...</td>\n",
       "      <td>...</td>\n",
       "    </tr>\n",
       "    <tr>\n",
       "      <th>2017-01-10</th>\n",
       "      <td>101.996</td>\n",
       "      <td>101.850</td>\n",
       "      <td>102.090</td>\n",
       "      <td>101.485</td>\n",
       "      <td>33.33K</td>\n",
       "      <td>0.09%</td>\n",
       "    </tr>\n",
       "    <tr>\n",
       "      <th>2017-01-09</th>\n",
       "      <td>101.909</td>\n",
       "      <td>102.245</td>\n",
       "      <td>102.490</td>\n",
       "      <td>101.845</td>\n",
       "      <td>31.02K</td>\n",
       "      <td>-0.29%</td>\n",
       "    </tr>\n",
       "    <tr>\n",
       "      <th>2017-01-06</th>\n",
       "      <td>102.209</td>\n",
       "      <td>101.540</td>\n",
       "      <td>102.300</td>\n",
       "      <td>101.395</td>\n",
       "      <td>38.07K</td>\n",
       "      <td>0.67%</td>\n",
       "    </tr>\n",
       "    <tr>\n",
       "      <th>2017-01-05</th>\n",
       "      <td>101.528</td>\n",
       "      <td>102.065</td>\n",
       "      <td>102.500</td>\n",
       "      <td>101.295</td>\n",
       "      <td>60.27K</td>\n",
       "      <td>-1.15%</td>\n",
       "    </tr>\n",
       "    <tr>\n",
       "      <th>2017-01-04</th>\n",
       "      <td>102.709</td>\n",
       "      <td>103.350</td>\n",
       "      <td>103.420</td>\n",
       "      <td>102.385</td>\n",
       "      <td>36.18K</td>\n",
       "      <td>-0.48%</td>\n",
       "    </tr>\n",
       "  </tbody>\n",
       "</table>\n",
       "<p>1292 rows × 6 columns</p>\n",
       "</div>"
      ],
      "text/plain": [
       "              Price     Open     High      Low    Vol. Change %\n",
       "Date                                                           \n",
       "2022-01-04   96.233   96.180   96.470   96.035       -    0.02%\n",
       "2022-01-03   96.211   95.600   96.330   95.600  16.79K    0.65%\n",
       "2021-12-31   95.593   95.965   96.105   95.575  15.00K   -0.39%\n",
       "2021-12-30   95.964   95.875   96.225   95.865  12.40K    0.04%\n",
       "2021-12-29   95.926   96.135   96.395   95.735  16.54K   -0.29%\n",
       "...             ...      ...      ...      ...     ...      ...\n",
       "2017-01-10  101.996  101.850  102.090  101.485  33.33K    0.09%\n",
       "2017-01-09  101.909  102.245  102.490  101.845  31.02K   -0.29%\n",
       "2017-01-06  102.209  101.540  102.300  101.395  38.07K    0.67%\n",
       "2017-01-05  101.528  102.065  102.500  101.295  60.27K   -1.15%\n",
       "2017-01-04  102.709  103.350  103.420  102.385  36.18K   -0.48%\n",
       "\n",
       "[1292 rows x 6 columns]"
      ]
     },
     "execution_count": 54,
     "metadata": {},
     "output_type": "execute_result"
    }
   ],
   "source": [
    "eth"
   ]
  },
  {
   "cell_type": "code",
   "execution_count": 55,
   "id": "ae9afabf",
   "metadata": {},
   "outputs": [
    {
     "data": {
      "text/html": [
       "<div>\n",
       "<style scoped>\n",
       "    .dataframe tbody tr th:only-of-type {\n",
       "        vertical-align: middle;\n",
       "    }\n",
       "\n",
       "    .dataframe tbody tr th {\n",
       "        vertical-align: top;\n",
       "    }\n",
       "\n",
       "    .dataframe thead th {\n",
       "        text-align: right;\n",
       "    }\n",
       "</style>\n",
       "<table border=\"1\" class=\"dataframe\">\n",
       "  <thead>\n",
       "    <tr style=\"text-align: right;\">\n",
       "      <th></th>\n",
       "      <th>Price</th>\n",
       "    </tr>\n",
       "    <tr>\n",
       "      <th>Date</th>\n",
       "      <th></th>\n",
       "    </tr>\n",
       "  </thead>\n",
       "  <tbody>\n",
       "    <tr>\n",
       "      <th>2022-01-04</th>\n",
       "      <td>96.233</td>\n",
       "    </tr>\n",
       "    <tr>\n",
       "      <th>2022-01-03</th>\n",
       "      <td>96.211</td>\n",
       "    </tr>\n",
       "    <tr>\n",
       "      <th>2021-12-31</th>\n",
       "      <td>95.593</td>\n",
       "    </tr>\n",
       "    <tr>\n",
       "      <th>2021-12-30</th>\n",
       "      <td>95.964</td>\n",
       "    </tr>\n",
       "    <tr>\n",
       "      <th>2021-12-29</th>\n",
       "      <td>95.926</td>\n",
       "    </tr>\n",
       "    <tr>\n",
       "      <th>...</th>\n",
       "      <td>...</td>\n",
       "    </tr>\n",
       "    <tr>\n",
       "      <th>2017-01-10</th>\n",
       "      <td>101.996</td>\n",
       "    </tr>\n",
       "    <tr>\n",
       "      <th>2017-01-09</th>\n",
       "      <td>101.909</td>\n",
       "    </tr>\n",
       "    <tr>\n",
       "      <th>2017-01-06</th>\n",
       "      <td>102.209</td>\n",
       "    </tr>\n",
       "    <tr>\n",
       "      <th>2017-01-05</th>\n",
       "      <td>101.528</td>\n",
       "    </tr>\n",
       "    <tr>\n",
       "      <th>2017-01-04</th>\n",
       "      <td>102.709</td>\n",
       "    </tr>\n",
       "  </tbody>\n",
       "</table>\n",
       "<p>1292 rows × 1 columns</p>\n",
       "</div>"
      ],
      "text/plain": [
       "              Price\n",
       "Date               \n",
       "2022-01-04   96.233\n",
       "2022-01-03   96.211\n",
       "2021-12-31   95.593\n",
       "2021-12-30   95.964\n",
       "2021-12-29   95.926\n",
       "...             ...\n",
       "2017-01-10  101.996\n",
       "2017-01-09  101.909\n",
       "2017-01-06  102.209\n",
       "2017-01-05  101.528\n",
       "2017-01-04  102.709\n",
       "\n",
       "[1292 rows x 1 columns]"
      ]
     },
     "execution_count": 55,
     "metadata": {},
     "output_type": "execute_result"
    }
   ],
   "source": [
    "eth.drop(eth.columns[[1,2,3,4,5]],axis=1,inplace=True)\n",
    "eth"
   ]
  },
  {
   "cell_type": "code",
   "execution_count": 56,
   "id": "b6a0d048",
   "metadata": {},
   "outputs": [
    {
     "name": "stdout",
     "output_type": "stream",
     "text": [
      "(1518, 2)\n",
      "(1292, 1)\n"
     ]
    }
   ],
   "source": [
    "#Checking shapes\n",
    "print(usd.shape)\n",
    "print(eth.shape)"
   ]
  },
  {
   "cell_type": "markdown",
   "id": "2aa93b1b",
   "metadata": {},
   "source": [
    "# Table Concatenation"
   ]
  },
  {
   "cell_type": "code",
   "execution_count": 57,
   "id": "261fec9f",
   "metadata": {},
   "outputs": [],
   "source": [
    "data=eth.join(usd,how='left')"
   ]
  },
  {
   "cell_type": "code",
   "execution_count": 58,
   "id": "4ad5a4d5-5f5a-41db-8b89-dcf360066523",
   "metadata": {},
   "outputs": [
    {
     "data": {
      "text/html": [
       "<div>\n",
       "<style scoped>\n",
       "    .dataframe tbody tr th:only-of-type {\n",
       "        vertical-align: middle;\n",
       "    }\n",
       "\n",
       "    .dataframe tbody tr th {\n",
       "        vertical-align: top;\n",
       "    }\n",
       "\n",
       "    .dataframe thead th {\n",
       "        text-align: right;\n",
       "    }\n",
       "</style>\n",
       "<table border=\"1\" class=\"dataframe\">\n",
       "  <thead>\n",
       "    <tr style=\"text-align: right;\">\n",
       "      <th></th>\n",
       "      <th>Price</th>\n",
       "      <th>Close</th>\n",
       "      <th>Volume</th>\n",
       "    </tr>\n",
       "    <tr>\n",
       "      <th>Date</th>\n",
       "      <th></th>\n",
       "      <th></th>\n",
       "      <th></th>\n",
       "    </tr>\n",
       "  </thead>\n",
       "  <tbody>\n",
       "    <tr>\n",
       "      <th>2022-01-04</th>\n",
       "      <td>96.233</td>\n",
       "      <td>3856.072510</td>\n",
       "      <td>1.359951e+10</td>\n",
       "    </tr>\n",
       "    <tr>\n",
       "      <th>2022-01-03</th>\n",
       "      <td>96.211</td>\n",
       "      <td>3761.380371</td>\n",
       "      <td>1.208078e+10</td>\n",
       "    </tr>\n",
       "    <tr>\n",
       "      <th>2021-12-31</th>\n",
       "      <td>95.593</td>\n",
       "      <td>3682.632813</td>\n",
       "      <td>1.415729e+10</td>\n",
       "    </tr>\n",
       "    <tr>\n",
       "      <th>2021-12-30</th>\n",
       "      <td>95.964</td>\n",
       "      <td>3713.852051</td>\n",
       "      <td>1.292538e+10</td>\n",
       "    </tr>\n",
       "    <tr>\n",
       "      <th>2021-12-29</th>\n",
       "      <td>95.926</td>\n",
       "      <td>3628.531738</td>\n",
       "      <td>1.572256e+10</td>\n",
       "    </tr>\n",
       "    <tr>\n",
       "      <th>...</th>\n",
       "      <td>...</td>\n",
       "      <td>...</td>\n",
       "      <td>...</td>\n",
       "    </tr>\n",
       "    <tr>\n",
       "      <th>2017-01-10</th>\n",
       "      <td>101.996</td>\n",
       "      <td>NaN</td>\n",
       "      <td>NaN</td>\n",
       "    </tr>\n",
       "    <tr>\n",
       "      <th>2017-01-09</th>\n",
       "      <td>101.909</td>\n",
       "      <td>NaN</td>\n",
       "      <td>NaN</td>\n",
       "    </tr>\n",
       "    <tr>\n",
       "      <th>2017-01-06</th>\n",
       "      <td>102.209</td>\n",
       "      <td>NaN</td>\n",
       "      <td>NaN</td>\n",
       "    </tr>\n",
       "    <tr>\n",
       "      <th>2017-01-05</th>\n",
       "      <td>101.528</td>\n",
       "      <td>NaN</td>\n",
       "      <td>NaN</td>\n",
       "    </tr>\n",
       "    <tr>\n",
       "      <th>2017-01-04</th>\n",
       "      <td>102.709</td>\n",
       "      <td>NaN</td>\n",
       "      <td>NaN</td>\n",
       "    </tr>\n",
       "  </tbody>\n",
       "</table>\n",
       "<p>1292 rows × 3 columns</p>\n",
       "</div>"
      ],
      "text/plain": [
       "              Price        Close        Volume\n",
       "Date                                          \n",
       "2022-01-04   96.233  3856.072510  1.359951e+10\n",
       "2022-01-03   96.211  3761.380371  1.208078e+10\n",
       "2021-12-31   95.593  3682.632813  1.415729e+10\n",
       "2021-12-30   95.964  3713.852051  1.292538e+10\n",
       "2021-12-29   95.926  3628.531738  1.572256e+10\n",
       "...             ...          ...           ...\n",
       "2017-01-10  101.996          NaN           NaN\n",
       "2017-01-09  101.909          NaN           NaN\n",
       "2017-01-06  102.209          NaN           NaN\n",
       "2017-01-05  101.528          NaN           NaN\n",
       "2017-01-04  102.709          NaN           NaN\n",
       "\n",
       "[1292 rows x 3 columns]"
      ]
     },
     "execution_count": 58,
     "metadata": {},
     "output_type": "execute_result"
    }
   ],
   "source": [
    "data"
   ]
  },
  {
   "cell_type": "code",
   "execution_count": 61,
   "id": "c9b0082e-17c1-4c19-a0d1-17049639f54f",
   "metadata": {},
   "outputs": [],
   "source": [
    "data.dropna(inplace=True)"
   ]
  },
  {
   "cell_type": "code",
   "execution_count": 62,
   "id": "cb8afb07",
   "metadata": {},
   "outputs": [
    {
     "data": {
      "text/html": [
       "<div>\n",
       "<style scoped>\n",
       "    .dataframe tbody tr th:only-of-type {\n",
       "        vertical-align: middle;\n",
       "    }\n",
       "\n",
       "    .dataframe tbody tr th {\n",
       "        vertical-align: top;\n",
       "    }\n",
       "\n",
       "    .dataframe thead th {\n",
       "        text-align: right;\n",
       "    }\n",
       "</style>\n",
       "<table border=\"1\" class=\"dataframe\">\n",
       "  <thead>\n",
       "    <tr style=\"text-align: right;\">\n",
       "      <th></th>\n",
       "      <th>Price</th>\n",
       "      <th>Close</th>\n",
       "      <th>Volume</th>\n",
       "    </tr>\n",
       "    <tr>\n",
       "      <th>Date</th>\n",
       "      <th></th>\n",
       "      <th></th>\n",
       "      <th></th>\n",
       "    </tr>\n",
       "  </thead>\n",
       "  <tbody>\n",
       "    <tr>\n",
       "      <th>2017-11-15</th>\n",
       "      <td>93.726</td>\n",
       "      <td>333.356995</td>\n",
       "      <td>7.226660e+08</td>\n",
       "    </tr>\n",
       "    <tr>\n",
       "      <th>2017-11-14</th>\n",
       "      <td>93.723</td>\n",
       "      <td>337.631012</td>\n",
       "      <td>1.069680e+09</td>\n",
       "    </tr>\n",
       "    <tr>\n",
       "      <th>2017-11-13</th>\n",
       "      <td>94.388</td>\n",
       "      <td>316.716003</td>\n",
       "      <td>1.041890e+09</td>\n",
       "    </tr>\n",
       "    <tr>\n",
       "      <th>2017-11-10</th>\n",
       "      <td>94.278</td>\n",
       "      <td>299.252991</td>\n",
       "      <td>8.859860e+08</td>\n",
       "    </tr>\n",
       "    <tr>\n",
       "      <th>2017-11-09</th>\n",
       "      <td>94.352</td>\n",
       "      <td>320.884003</td>\n",
       "      <td>8.932500e+08</td>\n",
       "    </tr>\n",
       "  </tbody>\n",
       "</table>\n",
       "</div>"
      ],
      "text/plain": [
       "             Price       Close        Volume\n",
       "Date                                        \n",
       "2017-11-15  93.726  333.356995  7.226660e+08\n",
       "2017-11-14  93.723  337.631012  1.069680e+09\n",
       "2017-11-13  94.388  316.716003  1.041890e+09\n",
       "2017-11-10  94.278  299.252991  8.859860e+08\n",
       "2017-11-09  94.352  320.884003  8.932500e+08"
      ]
     },
     "execution_count": 62,
     "metadata": {},
     "output_type": "execute_result"
    }
   ],
   "source": [
    "data.tail()"
   ]
  },
  {
   "cell_type": "code",
   "execution_count": 63,
   "id": "24a55229",
   "metadata": {},
   "outputs": [
    {
     "data": {
      "text/html": [
       "<div>\n",
       "<style scoped>\n",
       "    .dataframe tbody tr th:only-of-type {\n",
       "        vertical-align: middle;\n",
       "    }\n",
       "\n",
       "    .dataframe tbody tr th {\n",
       "        vertical-align: top;\n",
       "    }\n",
       "\n",
       "    .dataframe thead th {\n",
       "        text-align: right;\n",
       "    }\n",
       "</style>\n",
       "<table border=\"1\" class=\"dataframe\">\n",
       "  <thead>\n",
       "    <tr style=\"text-align: right;\">\n",
       "      <th></th>\n",
       "      <th>Price</th>\n",
       "      <th>Close</th>\n",
       "      <th>Volume</th>\n",
       "    </tr>\n",
       "    <tr>\n",
       "      <th>Date</th>\n",
       "      <th></th>\n",
       "      <th></th>\n",
       "      <th></th>\n",
       "    </tr>\n",
       "  </thead>\n",
       "  <tbody>\n",
       "    <tr>\n",
       "      <th>2022-01-04</th>\n",
       "      <td>96.233</td>\n",
       "      <td>3856.072510</td>\n",
       "      <td>1.359951e+10</td>\n",
       "    </tr>\n",
       "    <tr>\n",
       "      <th>2022-01-03</th>\n",
       "      <td>96.211</td>\n",
       "      <td>3761.380371</td>\n",
       "      <td>1.208078e+10</td>\n",
       "    </tr>\n",
       "    <tr>\n",
       "      <th>2021-12-31</th>\n",
       "      <td>95.593</td>\n",
       "      <td>3682.632813</td>\n",
       "      <td>1.415729e+10</td>\n",
       "    </tr>\n",
       "    <tr>\n",
       "      <th>2021-12-30</th>\n",
       "      <td>95.964</td>\n",
       "      <td>3713.852051</td>\n",
       "      <td>1.292538e+10</td>\n",
       "    </tr>\n",
       "    <tr>\n",
       "      <th>2021-12-29</th>\n",
       "      <td>95.926</td>\n",
       "      <td>3628.531738</td>\n",
       "      <td>1.572256e+10</td>\n",
       "    </tr>\n",
       "    <tr>\n",
       "      <th>...</th>\n",
       "      <td>...</td>\n",
       "      <td>...</td>\n",
       "      <td>...</td>\n",
       "    </tr>\n",
       "    <tr>\n",
       "      <th>2017-11-15</th>\n",
       "      <td>93.726</td>\n",
       "      <td>333.356995</td>\n",
       "      <td>7.226660e+08</td>\n",
       "    </tr>\n",
       "    <tr>\n",
       "      <th>2017-11-14</th>\n",
       "      <td>93.723</td>\n",
       "      <td>337.631012</td>\n",
       "      <td>1.069680e+09</td>\n",
       "    </tr>\n",
       "    <tr>\n",
       "      <th>2017-11-13</th>\n",
       "      <td>94.388</td>\n",
       "      <td>316.716003</td>\n",
       "      <td>1.041890e+09</td>\n",
       "    </tr>\n",
       "    <tr>\n",
       "      <th>2017-11-10</th>\n",
       "      <td>94.278</td>\n",
       "      <td>299.252991</td>\n",
       "      <td>8.859860e+08</td>\n",
       "    </tr>\n",
       "    <tr>\n",
       "      <th>2017-11-09</th>\n",
       "      <td>94.352</td>\n",
       "      <td>320.884003</td>\n",
       "      <td>8.932500e+08</td>\n",
       "    </tr>\n",
       "  </tbody>\n",
       "</table>\n",
       "<p>1072 rows × 3 columns</p>\n",
       "</div>"
      ],
      "text/plain": [
       "             Price        Close        Volume\n",
       "Date                                         \n",
       "2022-01-04  96.233  3856.072510  1.359951e+10\n",
       "2022-01-03  96.211  3761.380371  1.208078e+10\n",
       "2021-12-31  95.593  3682.632813  1.415729e+10\n",
       "2021-12-30  95.964  3713.852051  1.292538e+10\n",
       "2021-12-29  95.926  3628.531738  1.572256e+10\n",
       "...            ...          ...           ...\n",
       "2017-11-15  93.726   333.356995  7.226660e+08\n",
       "2017-11-14  93.723   337.631012  1.069680e+09\n",
       "2017-11-13  94.388   316.716003  1.041890e+09\n",
       "2017-11-10  94.278   299.252991  8.859860e+08\n",
       "2017-11-09  94.352   320.884003  8.932500e+08\n",
       "\n",
       "[1072 rows x 3 columns]"
      ]
     },
     "execution_count": 63,
     "metadata": {},
     "output_type": "execute_result"
    }
   ],
   "source": [
    "data"
   ]
  },
  {
   "cell_type": "markdown",
   "id": "dd4b11a2",
   "metadata": {},
   "source": [
    "# Data Visualization"
   ]
  },
  {
   "cell_type": "code",
   "execution_count": 64,
   "id": "1f7fad0d",
   "metadata": {},
   "outputs": [
    {
     "data": {
      "text/plain": [
       "array([<AxesSubplot:xlabel='Date'>, <AxesSubplot:xlabel='Date'>,\n",
       "       <AxesSubplot:xlabel='Date'>], dtype=object)"
      ]
     },
     "execution_count": 64,
     "metadata": {},
     "output_type": "execute_result"
    },
    {
     "data": {
      "image/png": "[encoded data removed]",
      "text/plain": [
       "<Figure size 1080x720 with 3 Axes>"
      ]
     },
     "metadata": {
      "needs_background": "light"
     },
     "output_type": "display_data"
    }
   ],
   "source": [
    "data.plot(subplots=True  ,figsize=(15,10))"
   ]
  },
  {
   "cell_type": "code",
   "execution_count": 65,
   "id": "c581fe9c",
   "metadata": {},
   "outputs": [
    {
     "data": {
      "text/html": [
       "<div>\n",
       "<style scoped>\n",
       "    .dataframe tbody tr th:only-of-type {\n",
       "        vertical-align: middle;\n",
       "    }\n",
       "\n",
       "    .dataframe tbody tr th {\n",
       "        vertical-align: top;\n",
       "    }\n",
       "\n",
       "    .dataframe thead th {\n",
       "        text-align: right;\n",
       "    }\n",
       "</style>\n",
       "<table border=\"1\" class=\"dataframe\">\n",
       "  <thead>\n",
       "    <tr style=\"text-align: right;\">\n",
       "      <th></th>\n",
       "      <th>Price</th>\n",
       "      <th>Close</th>\n",
       "      <th>Volume</th>\n",
       "    </tr>\n",
       "    <tr>\n",
       "      <th>Date</th>\n",
       "      <th></th>\n",
       "      <th></th>\n",
       "      <th></th>\n",
       "    </tr>\n",
       "  </thead>\n",
       "  <tbody>\n",
       "    <tr>\n",
       "      <th>2022-01-04</th>\n",
       "      <td>96.233</td>\n",
       "      <td>3856.072510</td>\n",
       "      <td>1.359951e+10</td>\n",
       "    </tr>\n",
       "    <tr>\n",
       "      <th>2022-01-03</th>\n",
       "      <td>96.211</td>\n",
       "      <td>3761.380371</td>\n",
       "      <td>1.208078e+10</td>\n",
       "    </tr>\n",
       "    <tr>\n",
       "      <th>2021-12-31</th>\n",
       "      <td>95.593</td>\n",
       "      <td>3682.632813</td>\n",
       "      <td>1.415729e+10</td>\n",
       "    </tr>\n",
       "    <tr>\n",
       "      <th>2021-12-30</th>\n",
       "      <td>95.964</td>\n",
       "      <td>3713.852051</td>\n",
       "      <td>1.292538e+10</td>\n",
       "    </tr>\n",
       "    <tr>\n",
       "      <th>2021-12-29</th>\n",
       "      <td>95.926</td>\n",
       "      <td>3628.531738</td>\n",
       "      <td>1.572256e+10</td>\n",
       "    </tr>\n",
       "    <tr>\n",
       "      <th>...</th>\n",
       "      <td>...</td>\n",
       "      <td>...</td>\n",
       "      <td>...</td>\n",
       "    </tr>\n",
       "    <tr>\n",
       "      <th>2017-11-15</th>\n",
       "      <td>93.726</td>\n",
       "      <td>333.356995</td>\n",
       "      <td>7.226660e+08</td>\n",
       "    </tr>\n",
       "    <tr>\n",
       "      <th>2017-11-14</th>\n",
       "      <td>93.723</td>\n",
       "      <td>337.631012</td>\n",
       "      <td>1.069680e+09</td>\n",
       "    </tr>\n",
       "    <tr>\n",
       "      <th>2017-11-13</th>\n",
       "      <td>94.388</td>\n",
       "      <td>316.716003</td>\n",
       "      <td>1.041890e+09</td>\n",
       "    </tr>\n",
       "    <tr>\n",
       "      <th>2017-11-10</th>\n",
       "      <td>94.278</td>\n",
       "      <td>299.252991</td>\n",
       "      <td>8.859860e+08</td>\n",
       "    </tr>\n",
       "    <tr>\n",
       "      <th>2017-11-09</th>\n",
       "      <td>94.352</td>\n",
       "      <td>320.884003</td>\n",
       "      <td>8.932500e+08</td>\n",
       "    </tr>\n",
       "  </tbody>\n",
       "</table>\n",
       "<p>1072 rows × 3 columns</p>\n",
       "</div>"
      ],
      "text/plain": [
       "             Price        Close        Volume\n",
       "Date                                         \n",
       "2022-01-04  96.233  3856.072510  1.359951e+10\n",
       "2022-01-03  96.211  3761.380371  1.208078e+10\n",
       "2021-12-31  95.593  3682.632813  1.415729e+10\n",
       "2021-12-30  95.964  3713.852051  1.292538e+10\n",
       "2021-12-29  95.926  3628.531738  1.572256e+10\n",
       "...            ...          ...           ...\n",
       "2017-11-15  93.726   333.356995  7.226660e+08\n",
       "2017-11-14  93.723   337.631012  1.069680e+09\n",
       "2017-11-13  94.388   316.716003  1.041890e+09\n",
       "2017-11-10  94.278   299.252991  8.859860e+08\n",
       "2017-11-09  94.352   320.884003  8.932500e+08\n",
       "\n",
       "[1072 rows x 3 columns]"
      ]
     },
     "execution_count": 65,
     "metadata": {},
     "output_type": "execute_result"
    }
   ],
   "source": [
    "y=data[[\"Close\"]]\n",
    "data"
   ]
  },
  {
   "cell_type": "code",
   "execution_count": 66,
   "id": "e545c635",
   "metadata": {},
   "outputs": [
    {
     "data": {
      "text/plain": [
       "Date\n",
       "2022-01-04    3856.072510\n",
       "2022-01-03    3761.380371\n",
       "2021-12-31    3682.632813\n",
       "2021-12-30    3713.852051\n",
       "2021-12-29    3628.531738\n",
       "                 ...     \n",
       "2017-11-15     333.356995\n",
       "2017-11-14     337.631012\n",
       "2017-11-13     316.716003\n",
       "2017-11-10     299.252991\n",
       "2017-11-09     320.884003\n",
       "Name: Close, Length: 1072, dtype: float64"
      ]
     },
     "execution_count": 66,
     "metadata": {},
     "output_type": "execute_result"
    }
   ],
   "source": [
    "y['Close']"
   ]
  },
  {
   "cell_type": "code",
   "execution_count": 67,
   "id": "f83a39c6",
   "metadata": {},
   "outputs": [],
   "source": [
    "x=data[[\"Volume\"]]"
   ]
  },
  {
   "cell_type": "code",
   "execution_count": 68,
   "id": "92cec33e",
   "metadata": {},
   "outputs": [
    {
     "data": {
      "text/html": [
       "<div>\n",
       "<style scoped>\n",
       "    .dataframe tbody tr th:only-of-type {\n",
       "        vertical-align: middle;\n",
       "    }\n",
       "\n",
       "    .dataframe tbody tr th {\n",
       "        vertical-align: top;\n",
       "    }\n",
       "\n",
       "    .dataframe thead th {\n",
       "        text-align: right;\n",
       "    }\n",
       "</style>\n",
       "<table border=\"1\" class=\"dataframe\">\n",
       "  <thead>\n",
       "    <tr style=\"text-align: right;\">\n",
       "      <th></th>\n",
       "      <th>Volume</th>\n",
       "    </tr>\n",
       "    <tr>\n",
       "      <th>Date</th>\n",
       "      <th></th>\n",
       "    </tr>\n",
       "  </thead>\n",
       "  <tbody>\n",
       "    <tr>\n",
       "      <th>2022-01-04</th>\n",
       "      <td>1.359951e+10</td>\n",
       "    </tr>\n",
       "    <tr>\n",
       "      <th>2022-01-03</th>\n",
       "      <td>1.208078e+10</td>\n",
       "    </tr>\n",
       "    <tr>\n",
       "      <th>2021-12-31</th>\n",
       "      <td>1.415729e+10</td>\n",
       "    </tr>\n",
       "    <tr>\n",
       "      <th>2021-12-30</th>\n",
       "      <td>1.292538e+10</td>\n",
       "    </tr>\n",
       "    <tr>\n",
       "      <th>2021-12-29</th>\n",
       "      <td>1.572256e+10</td>\n",
       "    </tr>\n",
       "    <tr>\n",
       "      <th>...</th>\n",
       "      <td>...</td>\n",
       "    </tr>\n",
       "    <tr>\n",
       "      <th>2017-11-15</th>\n",
       "      <td>7.226660e+08</td>\n",
       "    </tr>\n",
       "    <tr>\n",
       "      <th>2017-11-14</th>\n",
       "      <td>1.069680e+09</td>\n",
       "    </tr>\n",
       "    <tr>\n",
       "      <th>2017-11-13</th>\n",
       "      <td>1.041890e+09</td>\n",
       "    </tr>\n",
       "    <tr>\n",
       "      <th>2017-11-10</th>\n",
       "      <td>8.859860e+08</td>\n",
       "    </tr>\n",
       "    <tr>\n",
       "      <th>2017-11-09</th>\n",
       "      <td>8.932500e+08</td>\n",
       "    </tr>\n",
       "  </tbody>\n",
       "</table>\n",
       "<p>1072 rows × 1 columns</p>\n",
       "</div>"
      ],
      "text/plain": [
       "                  Volume\n",
       "Date                    \n",
       "2022-01-04  1.359951e+10\n",
       "2022-01-03  1.208078e+10\n",
       "2021-12-31  1.415729e+10\n",
       "2021-12-30  1.292538e+10\n",
       "2021-12-29  1.572256e+10\n",
       "...                  ...\n",
       "2017-11-15  7.226660e+08\n",
       "2017-11-14  1.069680e+09\n",
       "2017-11-13  1.041890e+09\n",
       "2017-11-10  8.859860e+08\n",
       "2017-11-09  8.932500e+08\n",
       "\n",
       "[1072 rows x 1 columns]"
      ]
     },
     "execution_count": 68,
     "metadata": {},
     "output_type": "execute_result"
    }
   ],
   "source": [
    "x"
   ]
  },
  {
   "cell_type": "markdown",
   "id": "bc02e879",
   "metadata": {},
   "source": [
    "# Linear Regression"
   ]
  },
  {
   "cell_type": "code",
   "execution_count": 69,
   "id": "9ae6e067",
   "metadata": {},
   "outputs": [
    {
     "data": {
      "text/plain": [
       "1072"
      ]
     },
     "execution_count": 69,
     "metadata": {},
     "output_type": "execute_result"
    }
   ],
   "source": [
    "from sklearn.linear_model import LinearRegression\n",
    "lr = LinearRegression()\n",
    "lr.fit(x.values,y.values)\n",
    "y.values.size"
   ]
  },
  {
   "cell_type": "code",
   "execution_count": 70,
   "id": "4fef54d8",
   "metadata": {},
   "outputs": [
    {
     "data": {
      "text/plain": [
       "array([[ 975.47896643],\n",
       "       [ 886.76213633],\n",
       "       [1008.06140108],\n",
       "       ...,\n",
       "       [ 241.9250396 ],\n",
       "       [ 232.81790095],\n",
       "       [ 233.24222781]])"
      ]
     },
     "execution_count": 70,
     "metadata": {},
     "output_type": "execute_result"
    }
   ],
   "source": [
    "from matplotlib import pyplot as plt\n",
    "from matplotlib.pyplot import figure\n",
    "X=x.values\n",
    "predict = lr.predict(x.values)\n",
    "predict"
   ]
  },
  {
   "cell_type": "code",
   "execution_count": 71,
   "id": "74b8daab",
   "metadata": {},
   "outputs": [
    {
     "data": {
      "image/png": "[encoded data removed]",
      "text/plain": [
       "<Figure size 1080x360 with 1 Axes>"
      ]
     },
     "metadata": {
      "needs_background": "light"
     },
     "output_type": "display_data"
    }
   ],
   "source": [
    "plt.figure(figsize=(15,5))\n",
    "plt.plot(data.index,predict)\n",
    "plt.ylabel('ETH')\n",
    "plt.xlabel('DATE')\n",
    "plt.show()"
   ]
  },
  {
   "cell_type": "code",
   "execution_count": 72,
   "id": "ca8dfa40",
   "metadata": {},
   "outputs": [
    {
     "data": {
      "text/plain": [
       "<AxesSubplot:xlabel='Date'>"
      ]
     },
     "execution_count": 72,
     "metadata": {},
     "output_type": "execute_result"
    },
    {
     "data": {
      "image/png": "[encoded data removed]",
      "text/plain": [
       "<Figure size 1080x360 with 1 Axes>"
      ]
     },
     "metadata": {
      "needs_background": "light"
     },
     "output_type": "display_data"
    }
   ],
   "source": [
    "y.plot(figsize=(15,5))"
   ]
  },
  {
   "cell_type": "markdown",
   "id": "5b45c3c6",
   "metadata": {},
   "source": [
    "# R2 Score"
   ]
  },
  {
   "cell_type": "code",
   "execution_count": 73,
   "id": "19181fd5",
   "metadata": {},
   "outputs": [
    {
     "data": {
      "text/plain": [
       "0.34748677367932923"
      ]
     },
     "execution_count": 73,
     "metadata": {},
     "output_type": "execute_result"
    }
   ],
   "source": [
    "from sklearn.metrics import r2_score\n",
    "r2_score(y,predict)"
   ]
  },
  {
   "cell_type": "markdown",
   "id": "1b4c9984",
   "metadata": {},
   "source": [
    "# Polinomal Regression Using ETH Volume"
   ]
  },
  {
   "cell_type": "code",
   "execution_count": 75,
   "id": "08ae82a8",
   "metadata": {},
   "outputs": [
    {
     "data": {
      "text/html": [
       "<div>\n",
       "<style scoped>\n",
       "    .dataframe tbody tr th:only-of-type {\n",
       "        vertical-align: middle;\n",
       "    }\n",
       "\n",
       "    .dataframe tbody tr th {\n",
       "        vertical-align: top;\n",
       "    }\n",
       "\n",
       "    .dataframe thead th {\n",
       "        text-align: right;\n",
       "    }\n",
       "</style>\n",
       "<table border=\"1\" class=\"dataframe\">\n",
       "  <thead>\n",
       "    <tr style=\"text-align: right;\">\n",
       "      <th></th>\n",
       "      <th>Price</th>\n",
       "      <th>Close</th>\n",
       "      <th>Volume</th>\n",
       "    </tr>\n",
       "    <tr>\n",
       "      <th>Date</th>\n",
       "      <th></th>\n",
       "      <th></th>\n",
       "      <th></th>\n",
       "    </tr>\n",
       "  </thead>\n",
       "  <tbody>\n",
       "    <tr>\n",
       "      <th>2022-01-04</th>\n",
       "      <td>96.233</td>\n",
       "      <td>3856.072510</td>\n",
       "      <td>1.359951e+10</td>\n",
       "    </tr>\n",
       "    <tr>\n",
       "      <th>2022-01-03</th>\n",
       "      <td>96.211</td>\n",
       "      <td>3761.380371</td>\n",
       "      <td>1.208078e+10</td>\n",
       "    </tr>\n",
       "    <tr>\n",
       "      <th>2021-12-31</th>\n",
       "      <td>95.593</td>\n",
       "      <td>3682.632813</td>\n",
       "      <td>1.415729e+10</td>\n",
       "    </tr>\n",
       "    <tr>\n",
       "      <th>2021-12-30</th>\n",
       "      <td>95.964</td>\n",
       "      <td>3713.852051</td>\n",
       "      <td>1.292538e+10</td>\n",
       "    </tr>\n",
       "    <tr>\n",
       "      <th>2021-12-29</th>\n",
       "      <td>95.926</td>\n",
       "      <td>3628.531738</td>\n",
       "      <td>1.572256e+10</td>\n",
       "    </tr>\n",
       "    <tr>\n",
       "      <th>...</th>\n",
       "      <td>...</td>\n",
       "      <td>...</td>\n",
       "      <td>...</td>\n",
       "    </tr>\n",
       "    <tr>\n",
       "      <th>2017-11-15</th>\n",
       "      <td>93.726</td>\n",
       "      <td>333.356995</td>\n",
       "      <td>7.226660e+08</td>\n",
       "    </tr>\n",
       "    <tr>\n",
       "      <th>2017-11-14</th>\n",
       "      <td>93.723</td>\n",
       "      <td>337.631012</td>\n",
       "      <td>1.069680e+09</td>\n",
       "    </tr>\n",
       "    <tr>\n",
       "      <th>2017-11-13</th>\n",
       "      <td>94.388</td>\n",
       "      <td>316.716003</td>\n",
       "      <td>1.041890e+09</td>\n",
       "    </tr>\n",
       "    <tr>\n",
       "      <th>2017-11-10</th>\n",
       "      <td>94.278</td>\n",
       "      <td>299.252991</td>\n",
       "      <td>8.859860e+08</td>\n",
       "    </tr>\n",
       "    <tr>\n",
       "      <th>2017-11-09</th>\n",
       "      <td>94.352</td>\n",
       "      <td>320.884003</td>\n",
       "      <td>8.932500e+08</td>\n",
       "    </tr>\n",
       "  </tbody>\n",
       "</table>\n",
       "<p>1072 rows × 3 columns</p>\n",
       "</div>"
      ],
      "text/plain": [
       "             Price        Close        Volume\n",
       "Date                                         \n",
       "2022-01-04  96.233  3856.072510  1.359951e+10\n",
       "2022-01-03  96.211  3761.380371  1.208078e+10\n",
       "2021-12-31  95.593  3682.632813  1.415729e+10\n",
       "2021-12-30  95.964  3713.852051  1.292538e+10\n",
       "2021-12-29  95.926  3628.531738  1.572256e+10\n",
       "...            ...          ...           ...\n",
       "2017-11-15  93.726   333.356995  7.226660e+08\n",
       "2017-11-14  93.723   337.631012  1.069680e+09\n",
       "2017-11-13  94.388   316.716003  1.041890e+09\n",
       "2017-11-10  94.278   299.252991  8.859860e+08\n",
       "2017-11-09  94.352   320.884003  8.932500e+08\n",
       "\n",
       "[1072 rows x 3 columns]"
      ]
     },
     "execution_count": 75,
     "metadata": {},
     "output_type": "execute_result"
    }
   ],
   "source": [
    "data"
   ]
  },
  {
   "cell_type": "code",
   "execution_count": 76,
   "id": "a58e0479",
   "metadata": {},
   "outputs": [
    {
     "data": {
      "text/html": [
       "<div>\n",
       "<style scoped>\n",
       "    .dataframe tbody tr th:only-of-type {\n",
       "        vertical-align: middle;\n",
       "    }\n",
       "\n",
       "    .dataframe tbody tr th {\n",
       "        vertical-align: top;\n",
       "    }\n",
       "\n",
       "    .dataframe thead th {\n",
       "        text-align: right;\n",
       "    }\n",
       "</style>\n",
       "<table border=\"1\" class=\"dataframe\">\n",
       "  <thead>\n",
       "    <tr style=\"text-align: right;\">\n",
       "      <th></th>\n",
       "      <th>Close</th>\n",
       "    </tr>\n",
       "    <tr>\n",
       "      <th>Date</th>\n",
       "      <th></th>\n",
       "    </tr>\n",
       "  </thead>\n",
       "  <tbody>\n",
       "    <tr>\n",
       "      <th>2022-01-04</th>\n",
       "      <td>3856.072510</td>\n",
       "    </tr>\n",
       "    <tr>\n",
       "      <th>2022-01-03</th>\n",
       "      <td>3761.380371</td>\n",
       "    </tr>\n",
       "    <tr>\n",
       "      <th>2021-12-31</th>\n",
       "      <td>3682.632813</td>\n",
       "    </tr>\n",
       "    <tr>\n",
       "      <th>2021-12-30</th>\n",
       "      <td>3713.852051</td>\n",
       "    </tr>\n",
       "    <tr>\n",
       "      <th>2021-12-29</th>\n",
       "      <td>3628.531738</td>\n",
       "    </tr>\n",
       "    <tr>\n",
       "      <th>...</th>\n",
       "      <td>...</td>\n",
       "    </tr>\n",
       "    <tr>\n",
       "      <th>2017-11-15</th>\n",
       "      <td>333.356995</td>\n",
       "    </tr>\n",
       "    <tr>\n",
       "      <th>2017-11-14</th>\n",
       "      <td>337.631012</td>\n",
       "    </tr>\n",
       "    <tr>\n",
       "      <th>2017-11-13</th>\n",
       "      <td>316.716003</td>\n",
       "    </tr>\n",
       "    <tr>\n",
       "      <th>2017-11-10</th>\n",
       "      <td>299.252991</td>\n",
       "    </tr>\n",
       "    <tr>\n",
       "      <th>2017-11-09</th>\n",
       "      <td>320.884003</td>\n",
       "    </tr>\n",
       "  </tbody>\n",
       "</table>\n",
       "<p>1072 rows × 1 columns</p>\n",
       "</div>"
      ],
      "text/plain": [
       "                  Close\n",
       "Date                   \n",
       "2022-01-04  3856.072510\n",
       "2022-01-03  3761.380371\n",
       "2021-12-31  3682.632813\n",
       "2021-12-30  3713.852051\n",
       "2021-12-29  3628.531738\n",
       "...                 ...\n",
       "2017-11-15   333.356995\n",
       "2017-11-14   337.631012\n",
       "2017-11-13   316.716003\n",
       "2017-11-10   299.252991\n",
       "2017-11-09   320.884003\n",
       "\n",
       "[1072 rows x 1 columns]"
      ]
     },
     "execution_count": 76,
     "metadata": {},
     "output_type": "execute_result"
    }
   ],
   "source": [
    "y=data.iloc[:,0:1]\n",
    "x=data.iloc[:,1:2]\n",
    "x"
   ]
  },
  {
   "cell_type": "code",
   "execution_count": 77,
   "id": "d84b3e01",
   "metadata": {},
   "outputs": [
    {
     "data": {
      "text/plain": [
       "array([[3856.07251 ],\n",
       "       [3761.380371],\n",
       "       [3682.632813],\n",
       "       ...,\n",
       "       [ 316.716003],\n",
       "       [ 299.252991],\n",
       "       [ 320.884003]])"
      ]
     },
     "execution_count": 77,
     "metadata": {},
     "output_type": "execute_result"
    }
   ],
   "source": [
    "X=x.values\n",
    "Y=y.values\n",
    "X"
   ]
  },
  {
   "cell_type": "code",
   "execution_count": 78,
   "id": "cfdf577f",
   "metadata": {},
   "outputs": [
    {
     "name": "stdout",
     "output_type": "stream",
     "text": [
      "[[1.00000000e+00 3.85607251e+03 1.48692952e+07]\n",
      " [1.00000000e+00 3.76138037e+03 1.41479823e+07]\n",
      " [1.00000000e+00 3.68263281e+03 1.35617844e+07]\n",
      " ...\n",
      " [1.00000000e+00 3.16716003e+02 1.00309027e+05]\n",
      " [1.00000000e+00 2.99252991e+02 8.95523526e+04]\n",
      " [1.00000000e+00 3.20884003e+02 1.02966543e+05]]\n"
     ]
    }
   ],
   "source": [
    "from sklearn.preprocessing import PolynomialFeatures\n",
    "poly_reg = PolynomialFeatures(degree = 2)\n",
    "x_poly = poly_reg.fit_transform(X)\n",
    "print(x_poly)"
   ]
  },
  {
   "cell_type": "code",
   "execution_count": 79,
   "id": "62772103",
   "metadata": {},
   "outputs": [
    {
     "data": {
      "image/png": "[encoded data removed]",
      "text/plain": [
       "<Figure size 720x720 with 1 Axes>"
      ]
     },
     "metadata": {
      "needs_background": "light"
     },
     "output_type": "display_data"
    }
   ],
   "source": [
    "lin_reg2 = LinearRegression()\n",
    "lin_reg2.fit(x_poly,y)\n",
    "plt.figure(figsize=(10,10))\n",
    "plt.scatter(X,Y,color = 'red')\n",
    "plt.plot(X,lin_reg2.predict(poly_reg.fit_transform(X)), color = 'blue')\n",
    "plt.xlabel('ETH VOLUME')\n",
    "plt.ylabel('ETH')\n",
    "plt.show()"
   ]
  },
  {
   "cell_type": "markdown",
   "id": "ded326fe",
   "metadata": {},
   "source": [
    "# R2 Score"
   ]
  },
  {
   "cell_type": "code",
   "execution_count": 80,
   "id": "dc7797a7",
   "metadata": {},
   "outputs": [
    {
     "data": {
      "text/plain": [
       "0.5328348596958958"
      ]
     },
     "execution_count": 80,
     "metadata": {},
     "output_type": "execute_result"
    }
   ],
   "source": [
    "r2_score(y,lin_reg2.predict(poly_reg.fit_transform(X)))"
   ]
  },
  {
   "cell_type": "markdown",
   "id": "a9f01cac",
   "metadata": {},
   "source": [
    "# Test the Predictor "
   ]
  },
  {
   "cell_type": "code",
   "execution_count": 82,
   "id": "db3cf735",
   "metadata": {},
   "outputs": [
    {
     "name": "stdout",
     "output_type": "stream",
     "text": [
      "[[1.04062477e+16]]\n"
     ]
    }
   ],
   "source": [
    "# Our predictor saying when the volume is '8.44829128e+10' ETH will be '4464.73406298'\n",
    "\n",
    "\n",
    "\n",
    "print(lin_reg2.predict(poly_reg.fit_transform([[8.44829128e+10]])))\n"
   ]
  },
  {
   "cell_type": "markdown",
   "id": "b18edeab",
   "metadata": {},
   "source": [
    "# Polinomal Regression Using Dolar Price"
   ]
  },
  {
   "cell_type": "code",
   "execution_count": 83,
   "id": "7850f7b0",
   "metadata": {},
   "outputs": [],
   "source": [
    "x=data.iloc[:,0:1]\n",
    "y=data.iloc[:,2:3]\n",
    "X=x.values\n",
    "Y=y.values"
   ]
  },
  {
   "cell_type": "code",
   "execution_count": 84,
   "id": "d8af4658",
   "metadata": {},
   "outputs": [],
   "source": [
    "poly_reg = PolynomialFeatures(degree = 3)\n",
    "x_poly = poly_reg.fit_transform(X)"
   ]
  },
  {
   "cell_type": "code",
   "execution_count": 85,
   "id": "ba84d534",
   "metadata": {},
   "outputs": [
    {
     "data": {
      "image/png": "[encoded data removed]",
      "text/plain": [
       "<Figure size 720x720 with 1 Axes>"
      ]
     },
     "metadata": {
      "needs_background": "light"
     },
     "output_type": "display_data"
    }
   ],
   "source": [
    "lin_reg2 = LinearRegression()\n",
    "lin_reg2.fit(x_poly,y)\n",
    "plt.figure(figsize=(10,10))\n",
    "plt.scatter(X,Y,color = 'red')\n",
    "plt.plot(X,lin_reg2.predict(poly_reg.fit_transform(X)), color = 'blue')\n",
    "plt.xlabel('ETH')\n",
    "plt.ylabel('DOLLAR PRICE')\n",
    "plt.show()"
   ]
  },
  {
   "cell_type": "markdown",
   "id": "63a0a08c",
   "metadata": {},
   "source": [
    "# R2 Score"
   ]
  },
  {
   "cell_type": "code",
   "execution_count": 86,
   "id": "9a192514",
   "metadata": {},
   "outputs": [
    {
     "data": {
      "text/plain": [
       "0.17539719239440998"
      ]
     },
     "execution_count": 86,
     "metadata": {},
     "output_type": "execute_result"
    }
   ],
   "source": [
    "r2_score(y,lin_reg2.predict(poly_reg.fit_transform(X)))"
   ]
  },
  {
   "cell_type": "markdown",
   "id": "5ce4e45d",
   "metadata": {},
   "source": [
    "# Test the predictor using ETH"
   ]
  },
  {
   "cell_type": "code",
   "execution_count": 88,
   "id": "eeed83cd",
   "metadata": {},
   "outputs": [
    {
     "name": "stdout",
     "output_type": "stream",
     "text": [
      "[[4.76523251e+18]]\n"
     ]
    }
   ],
   "source": [
    "# Our predictor saying when the ETH is '4500' usd dollar price will be '85.31'\n",
    "\n",
    "\n",
    "\n",
    "print(lin_reg2.predict(poly_reg.fit_transform([[4500]])))\n"
   ]
  },
  {
   "cell_type": "markdown",
   "id": "90bf51d2",
   "metadata": {},
   "source": [
    "# Standardization and SVR"
   ]
  },
  {
   "cell_type": "code",
   "execution_count": 89,
   "id": "149104c5",
   "metadata": {},
   "outputs": [
    {
     "data": {
      "text/plain": [
       "array([[1.35995105e+10],\n",
       "       [1.20807779e+10],\n",
       "       [1.41572853e+10],\n",
       "       ...,\n",
       "       [1.04188998e+09],\n",
       "       [8.85985984e+08],\n",
       "       [8.93249984e+08]])"
      ]
     },
     "execution_count": 89,
     "metadata": {},
     "output_type": "execute_result"
    }
   ],
   "source": [
    "from sklearn.preprocessing import StandardScaler\n",
    "\n",
    "sc1=StandardScaler()\n",
    "x_st = sc1.fit_transform(X)\n",
    "\n",
    "y_st = np.ravel(sc1.fit_transform(Y.reshape(-1,1)))\n",
    "Y"
   ]
  },
  {
   "cell_type": "code",
   "execution_count": 90,
   "id": "93705b51",
   "metadata": {},
   "outputs": [
    {
     "data": {
      "text/plain": [
       "Text(0, 0.5, 'DOLLAR PRICE')"
      ]
     },
     "execution_count": 90,
     "metadata": {},
     "output_type": "execute_result"
    },
    {
     "data": {
      "image/png": "[encoded data removed]",
      "text/plain": [
       "<Figure size 720x720 with 1 Axes>"
      ]
     },
     "metadata": {
      "needs_background": "light"
     },
     "output_type": "display_data"
    }
   ],
   "source": [
    "from sklearn.svm import SVR\n",
    "\n",
    "svr_reg = SVR(kernel='rbf')\n",
    "svr_reg.fit(x_st,y_st)\n",
    "plt.figure(figsize=(10,10))\n",
    "plt.scatter(x_st,y_st,color='red')\n",
    "plt.plot(x_st,svr_reg.predict(x_st),color='blue')\n",
    "plt.xlabel('ETH')\n",
    "plt.ylabel('DOLLAR PRICE')\n",
    "\n"
   ]
  },
  {
   "cell_type": "markdown",
   "id": "60a118e0",
   "metadata": {},
   "source": [
    "# R2 Score"
   ]
  },
  {
   "cell_type": "code",
   "execution_count": 91,
   "id": "da61dc7e",
   "metadata": {},
   "outputs": [
    {
     "data": {
      "text/plain": [
       "0.2852451578856703"
      ]
     },
     "execution_count": 91,
     "metadata": {},
     "output_type": "execute_result"
    }
   ],
   "source": [
    "r2_score(y_st,svr_reg.predict(x_st))"
   ]
  }
 ],
 "metadata": {
  "kernelspec": {
   "display_name": "Python 3 (ipykernel)",
   "language": "python",
   "name": "python3"
  },
  "language_info": {
   "codemirror_mode": {
    "name": "ipython",
    "version": 3
   },
   "file_extension": ".py",
   "mimetype": "text/x-python",
   "name": "python",
   "nbconvert_exporter": "python",
   "pygments_lexer": "ipython3",
   "version": "3.10.1"
  }
 },
 "nbformat": 4,
 "nbformat_minor": 5
}
